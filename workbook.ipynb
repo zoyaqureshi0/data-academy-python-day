{
 "cells": [
  {
   "cell_type": "markdown",
   "id": "78625a7a",
   "metadata": {},
   "source": [
    "# Python - Basics\n",
    "\n",
    "# Python Fundamentals Lesson Plan\n",
    "\n",
    "## Learning Objectives\n",
    "\n",
    "By the end of this lesson, students will be able to:\n",
    "\n",
    "- Declare and use variables in Python\n",
    "- Define and call functions with parameters and return values\n",
    "- Import and use external libraries\n",
    "- Implement different types of loops\n",
    "- Handle user input from the command line\n",
    "- Build a calculator application using only loops and function calls"
   ]
  },
  {
   "cell_type": "markdown",
   "id": "6fe5c165",
   "metadata": {},
   "source": [
    "## Variables and Data Types\n",
    "\n",
    "Variables store data that can be used throughout your program. Python automatically determines the data type."
   ]
  },
  {
   "cell_type": "code",
   "execution_count": 9,
   "id": "f02b7af8",
   "metadata": {},
   "outputs": [
    {
     "name": "stdout",
     "output_type": "stream",
     "text": [
      "My name is Alice and I am 26 years old\n",
      "Numbers: [1, 2, 3, 4, 5]\n",
      "Person: {'name': 'Bob', 'age': 30}\n",
      "ids: (1, 2, 3, 4, 5)\n",
      "Names: {'Fred', 'John', 'Alice'}\n"
     ]
    }
   ],
   "source": [
    "# Basic variable assignment\n",
    "name = \"Alice\" # str\n",
    "age = 25 # int\n",
    "height = 5.6 # float\n",
    "is_student = True # bool\n",
    "\n",
    "# You can change variable values\n",
    "age = 26\n",
    "print(f\"My name is {name} and I am {age} years old\")\n",
    "\n",
    "# We can store collections of data in different structures\n",
    "numbers = [1, 2, 3, 4, 5]  # List\n",
    "print(f\"Numbers: {numbers}\")\n",
    "person = {\"name\": \"Bob\", \"age\": 30}  # Dictionary\n",
    "print(f\"Person: {person}\")\n",
    "ids = (1,2,3,4,5) # tuple\n",
    "print(f\"ids: {ids}\")\n",
    "names = {\"John\", \"Alice\", \"Fred\"}\n",
    "print(f\"Names: {names}\")\n"
   ]
  },
  {
   "cell_type": "markdown",
   "id": "b2745a67",
   "metadata": {},
   "source": [
    "<b>Exercise:</b> Create variables for your favorite movie, the year it was released, and whether you'd recommend it to others, add these variables to a print function and run the script."
   ]
  },
  {
   "cell_type": "code",
   "execution_count": null,
   "id": "1e113f80",
   "metadata": {},
   "outputs": [],
   "source": []
  },
  {
   "cell_type": "markdown",
   "id": "ff7fa9b9",
   "metadata": {},
   "source": [
    "### Data structure operations\n",
    "\n",
    "list, tuple, set and dict are the main data stuctures in python and each of them have their own little quirks in how they function aswell as what type of operations can be done on them"
   ]
  },
  {
   "cell_type": "code",
   "execution_count": 29,
   "id": "eb378141",
   "metadata": {},
   "outputs": [
    {
     "name": "stdout",
     "output_type": "stream",
     "text": [
      "\n",
      "--------------------------\n",
      "List before adding a new value to the end: [1, 2, 3]\n",
      "List after adding a new value to the end: [1, 2, 3, 4]\n",
      "\n",
      "We can see now that the list has had 4 added to the end!\n",
      "--------------------------\n",
      "\n",
      "--------------------------\n",
      "List before insert: [1, 2, 3]\n",
      "List after insert: [1, 2, 4, 3]\n",
      "--------------------------\n",
      "\n",
      "--------------------------\n",
      "List before pop: [1, 2, 3, 4]\n",
      "\n",
      "list after pop: [1, 2, 3]\n",
      "--------------------------\n",
      "\n",
      "--------------------------\n",
      "List after remove: [1, 2, 3]\n",
      "\n",
      "We can see here that both methods have removed 4 as expected\n",
      "--------------------------\n",
      "\n",
      "--------------------------\n",
      "\n",
      "List before remove: [1, 2, 3, 4, 4]\n",
      "List after remove: [1, 2, 3, 4]\n",
      "4 still exists!\n",
      "--------------------------\n"
     ]
    }
   ],
   "source": [
    "# list main methods - append, insert, remove, pop and extend\n",
    "import copy\n",
    "list1 = [1,2,3]\n",
    "\n",
    "# if we want to add a new value to the list we can do the following\n",
    "print(\"\\n--------------------------\")\n",
    "print(f\"List before adding a new value to the end: {list1}\")\n",
    "list1.append(4)\n",
    "print(f\"List after adding a new value to the end: {list1}\")\n",
    "print(\"\\nWe can see now that the list has had 4 added to the end!\")\n",
    "print(\"--------------------------\")\n",
    "\n",
    "# similar to append we can also insert a item into a list at a given index\n",
    "print(\"\\n--------------------------\")\n",
    "list2 = [1,2,3]\n",
    "print(f\"List before insert: {list2}\")\n",
    "list2.insert(2, 4)\n",
    "print(f\"List after insert: {list2}\")\n",
    "print(\"--------------------------\")\n",
    "\n",
    "# if we want to remove this a value we have two options\n",
    "# we can specify list.pop(3) and specify the index of the value in which we want to remove\n",
    "print(\"\\n--------------------------\")\n",
    "list2 = copy.deepcopy(list1)\n",
    "print(f\"List before pop: {list2}\")\n",
    "list2.pop(3)\n",
    "print(f\"\\nlist after pop: {list2}\")\n",
    "print(\"--------------------------\")\n",
    "\n",
    "print(\"\\n--------------------------\")\n",
    "list3 = copy.deepcopy(list1)\n",
    "list3.remove(4)\n",
    "print(f\"List after remove: {list3}\")\n",
    "print(\"\\nWe can see here that both methods have removed 4 as expected\")\n",
    "print(\"--------------------------\")\n",
    "\n",
    "# We can see that they both currently yield the same result but they is some caveats to be aware of, list.pop() expects the index of the item to remove meaning need to know the position\n",
    "# of the item in the list that you want to drop. list.remove() will remove only the first instance \n",
    "# e.g\n",
    "list4 = [1,2,3,4,4]\n",
    "print(\"\\n--------------------------\")\n",
    "print(f\"\\nList before remove: {list4}\")\n",
    "list4.remove(4)\n",
    "print(f\"List after remove: {list4}\")\n",
    "print(f\"4 still exists!\")\n",
    "print(\"--------------------------\")\n",
    "\n"
   ]
  },
  {
   "cell_type": "markdown",
   "id": "8da3de74",
   "metadata": {},
   "source": [
    "<b>Exercise:</b> \n",
    "1. Add another fruit to the end\n",
    "2. Insert a fruit at the second position\n",
    "3. Remove one fruit by name"
   ]
  },
  {
   "cell_type": "code",
   "execution_count": null,
   "id": "64702812",
   "metadata": {},
   "outputs": [],
   "source": [
    "# List Exercise:\n",
    "\n",
    "fruits = [\"apple\", \"banana\", \"cherry\"]\n",
    "\n",
    "# Your code here\n",
    "\n",
    "# Check your work\n",
    "assert fruits == [\"apple\", \"kiwi\", \"cherry\", \"orange\"], f\"Unexpected result: {fruits}\"\n",
    "print(\"List exercise passed!\")\n"
   ]
  },
  {
   "cell_type": "code",
   "execution_count": 30,
   "id": "d5f42dc3",
   "metadata": {},
   "outputs": [
    {
     "name": "stdout",
     "output_type": "stream",
     "text": [
      "\n",
      "--------------------------\n",
      "Original dictionary: {'name': 'Alice', 'age': 25}\n",
      "Dictionary after adding a new key-value pair: {'name': 'Alice', 'age': 25, 'city': 'London'}\n",
      "--------------------------\n",
      "\n",
      "--------------------------\n",
      "Updated dictionary (age changed): {'name': 'Alice', 'age': 26, 'city': 'London'}\n",
      "--------------------------\n",
      "\n",
      "--------------------------\n",
      "Dictionary after removing 'city': {'name': 'Alice', 'age': 26}\n",
      "--------------------------\n",
      "\n",
      "--------------------------\n",
      "Does 'name' exist in the dictionary? True\n",
      "--------------------------\n"
     ]
    }
   ],
   "source": [
    "# dictionaries store data in key-value pairs\n",
    "my_dict = {\"name\": \"Alice\", \"age\": 25}\n",
    "\n",
    "print(\"\\n--------------------------\")\n",
    "print(f\"Original dictionary: {my_dict}\")\n",
    "\n",
    "# add a new key-value pair\n",
    "my_dict[\"city\"] = \"London\"\n",
    "print(f\"Dictionary after adding a new key-value pair: {my_dict}\")\n",
    "print(\"--------------------------\")\n",
    "\n",
    "# updating a value\n",
    "print(\"\\n--------------------------\")\n",
    "my_dict[\"age\"] = 26\n",
    "print(f\"Updated dictionary (age changed): {my_dict}\")\n",
    "print(\"--------------------------\")\n",
    "\n",
    "# removing a key using pop\n",
    "print(\"\\n--------------------------\")\n",
    "my_dict.pop(\"city\")\n",
    "print(f\"Dictionary after removing 'city': {my_dict}\")\n",
    "print(\"--------------------------\")\n",
    "\n",
    "# checking if a key exists\n",
    "print(\"\\n--------------------------\")\n",
    "print(f\"Does 'name' exist in the dictionary? {'name' in my_dict}\")\n",
    "print(\"--------------------------\")\n"
   ]
  },
  {
   "cell_type": "markdown",
   "id": "fde940fb",
   "metadata": {},
   "source": [
    "<b>Exercise:</b> \n",
    "1. Add a new key \"hobby\"\n",
    "2. Update \"age\"\n",
    "3. Remove the \"hobby\" key"
   ]
  },
  {
   "cell_type": "code",
   "execution_count": null,
   "id": "78f263fd",
   "metadata": {},
   "outputs": [],
   "source": [
    "# Dictionary Exercise:\n",
    "\n",
    "person = {\"name\": \"Alex\", \"age\": 30}\n",
    "\n",
    "# Your code here\n",
    "\n",
    "\n",
    "# ✅ Check your work\n",
    "assert person == {\"name\": \"Alex\", \"age\": 35}, f\"Unexpected result: {person}\"\n",
    "print(\"Dictionary exercise passed!\")\n"
   ]
  },
  {
   "cell_type": "code",
   "execution_count": null,
   "id": "3d16d6ab",
   "metadata": {},
   "outputs": [],
   "source": [
    "# sets are like lists but with no duplicates and no order\n",
    "my_set = {1, 2, 3}\n",
    "\n",
    "print(\"\\n--------------------------\")\n",
    "print(f\"Original set: {my_set}\")\n",
    "\n",
    "# adding a new value\n",
    "my_set.add(4)\n",
    "print(f\"Set after adding a value: {my_set}\")\n",
    "print(\"--------------------------\")\n",
    "\n",
    "# trying to add a duplicate\n",
    "my_set.add(3)\n",
    "print(f\"Set after trying to add duplicate (3): {my_set}\")\n",
    "print(\"As we can see, duplicates are not added!\")\n",
    "print(\"--------------------------\")\n",
    "\n",
    "# removing a value\n",
    "my_set.remove(2)\n",
    "print(f\"Set after removing 2: {my_set}\")\n",
    "print(\"--------------------------\")\n",
    "\n",
    "# check if a value exists in the set\n",
    "print(\"\\n--------------------------\")\n",
    "print(f\"Is 1 in the set? {1 in my_set}\")\n",
    "print(\"--------------------------\")"
   ]
  },
  {
   "cell_type": "markdown",
   "id": "7b5c44bc",
   "metadata": {},
   "source": [
    "<b>Exercise:</b> \n",
    "1. Add a number\n",
    "2. Try adding a duplicate\n",
    "3. Remove one number"
   ]
  },
  {
   "cell_type": "code",
   "execution_count": null,
   "id": "4e7f415e",
   "metadata": {},
   "outputs": [],
   "source": [
    "# Set exercise\n",
    "numbers = {1, 2, 3}\n",
    "\n",
    "# Your code here\n",
    "\n",
    "# Check your work\n",
    "assert numbers == {2, 3, 4}, f\"Unexpected result: {numbers}\"\n",
    "print(\"Set exercise passed!\")"
   ]
  },
  {
   "cell_type": "code",
   "execution_count": null,
   "id": "f24697f9",
   "metadata": {},
   "outputs": [],
   "source": [
    "# tuples are like lists, but they can't be changed after creation\n",
    "my_tuple = (1, 2, 3)\n",
    "\n",
    "print(\"\\n--------------------------\")\n",
    "print(f\"Original tuple: {my_tuple}\")\n",
    "print(\"We can access items by index like a list:\")\n",
    "print(f\"First item: {my_tuple[0]}\")\n",
    "print(\"--------------------------\")\n",
    "\n",
    "# tuples cannot be changed\n",
    "print(\"\\n--------------------------\")\n",
    "try:\n",
    "    my_tuple[1] = 5\n",
    "except TypeError as e:\n",
    "    print(\"Tuples are immutable, so we can't change their values!\")\n",
    "    print(f\"Error: {e}\")\n",
    "print(\"--------------------------\")\n",
    "\n",
    "# tuples can contain different types\n",
    "mixed_tuple = (\"Alice\", 25, True)\n",
    "print(f\"\\nTuple with mixed types: {mixed_tuple}\")\n",
    "print(\"--------------------------\")\n"
   ]
  },
  {
   "cell_type": "markdown",
   "id": "c8975f5c",
   "metadata": {},
   "source": [
    "<b>Exercise:</b> \n",
    "1. Print each item\n",
    "2. Try changing one item (should fail)"
   ]
  },
  {
   "cell_type": "code",
   "execution_count": null,
   "id": "612e72ff",
   "metadata": {},
   "outputs": [],
   "source": [
    "info = (\"Taylor\", 28, \"New York\")\n",
    "\n",
    "# Your code here - expect a error\n"
   ]
  },
  {
   "cell_type": "markdown",
   "id": "5e8a195e",
   "metadata": {},
   "source": [
    "## Functions (20 minutes)\n",
    "\n",
    "Functions are reusable blocks of code that perform specific tasks."
   ]
  },
  {
   "cell_type": "code",
   "execution_count": 31,
   "id": "4420957a",
   "metadata": {},
   "outputs": [
    {
     "name": "stdout",
     "output_type": "stream",
     "text": [
      "Hello, Sarah!\n",
      "The room area is 120 square feet\n",
      "Hi, I'm John and I'm 18 years old\n",
      "Hi, I'm Jane and I'm 25 years old\n"
     ]
    }
   ],
   "source": [
    "# Basic function\n",
    "def greet(name):\n",
    "    return f\"Hello, {name}!\"\n",
    "\n",
    "# Function with multiple parameters\n",
    "def calculate_area(length, width):\n",
    "    area = length * width\n",
    "    return area\n",
    "\n",
    "# Function with default parameters\n",
    "def introduce(name, age=18):\n",
    "    return f\"Hi, I'm {name} and I'm {age} years old\"\n",
    "\n",
    "# Using the functions\n",
    "message = greet(\"Sarah\")\n",
    "print(message)\n",
    "\n",
    "room_area = calculate_area(10, 12)\n",
    "print(f\"The room area is {room_area} square feet\")\n",
    "\n",
    "print(introduce(\"John\"))\n",
    "print(introduce(\"Jane\", 25))\n"
   ]
  },
  {
   "cell_type": "markdown",
   "id": "471b2450",
   "metadata": {},
   "source": [
    "**Exercise:** Write a function that takes a temperature in Celsius and returns it in Fahrenheit. \n",
    "\n",
    "The formula for this is `(0°C × 9/5) + 32 = 32°F`"
   ]
  },
  {
   "cell_type": "code",
   "execution_count": null,
   "id": "d19f1cfd",
   "metadata": {},
   "outputs": [],
   "source": []
  },
  {
   "cell_type": "markdown",
   "id": "68b5563f",
   "metadata": {},
   "source": [
    "## Importing Libraries\n",
    "\n",
    "Libraries extend Python's functionality with pre-written code."
   ]
  },
  {
   "cell_type": "code",
   "execution_count": null,
   "id": "c8ee2ed7",
   "metadata": {},
   "outputs": [],
   "source": [
    "# Import entire library\n",
    "import math\n",
    "print(math.sqrt(16))  # Output: 4.0\n",
    "\n",
    "# Import specific functions\n",
    "from random import randint, choice\n",
    "random_number = randint(1, 10)\n",
    "random_color = choice([\"red\", \"blue\", \"green\"])\n",
    "\n",
    "# Import with alias\n",
    "import datetime as dt\n",
    "current_time = dt.datetime.now()\n",
    "print(current_time)\n",
    "\n",
    "# Common useful libraries\n",
    "import os  # Operating system interface\n",
    "import sys  # System-specific parameters\n"
   ]
  },
  {
   "cell_type": "markdown",
   "id": "8a2e68b3",
   "metadata": {},
   "source": [
    "<b>Exercise:</b> Import the random library and create a function that returns a random number between 1 and 100."
   ]
  },
  {
   "cell_type": "code",
   "execution_count": null,
   "id": "bcac3c16",
   "metadata": {},
   "outputs": [],
   "source": []
  },
  {
   "cell_type": "markdown",
   "id": "9a95d1b6",
   "metadata": {},
   "source": [
    "## Loops\n",
    "\n",
    "Loops repeat code multiple times."
   ]
  },
  {
   "cell_type": "code",
   "execution_count": null,
   "id": "969e238f",
   "metadata": {},
   "outputs": [],
   "source": [
    "# for loops\n",
    "\n",
    "# Loop through a range\n",
    "for i in range(5):\n",
    "    print(f\"Count: {i}\")\n",
    "\n",
    "# Loop through a list\n",
    "fruits = [\"apple\", \"banana\", \"orange\"]\n",
    "for fruit in fruits:\n",
    "    print(f\"I like {fruit}\")\n",
    "\n",
    "# Loop with enumerate (get index and value)\n",
    "for index, fruit in enumerate(fruits):\n",
    "    print(f\"{index}: {fruit}\")"
   ]
  },
  {
   "cell_type": "code",
   "execution_count": null,
   "id": "feeadad6",
   "metadata": {},
   "outputs": [],
   "source": [
    "# while loops\n",
    "\n",
    "# Basic while loop\n",
    "count = 0\n",
    "while count < 5:\n",
    "    print(f\"Count is {count}\")\n",
    "    count += 1\n",
    "\n",
    "# While loop with user input\n",
    "password = \"\"\n",
    "while password != \"secret\":\n",
    "    password = input(\"Enter password: \")\n",
    "    if password != \"secret\":\n",
    "        print(\"Incorrect password!\")\n",
    "print(\"Access granted!\")"
   ]
  },
  {
   "cell_type": "markdown",
   "id": "98ee47d4",
   "metadata": {},
   "source": [
    "<b>Exercise:</b> Write a for loop that prints the squares of numbers 1 through 10."
   ]
  },
  {
   "cell_type": "code",
   "execution_count": null,
   "id": "ef708a5e",
   "metadata": {},
   "outputs": [],
   "source": []
  },
  {
   "cell_type": "markdown",
   "id": "45f9c400",
   "metadata": {},
   "source": [
    "## Taking Input from Command Line\n",
    "\n",
    "The `input()` function allows users to interact with your program."
   ]
  },
  {
   "cell_type": "code",
   "execution_count": null,
   "id": "d1fdd286",
   "metadata": {},
   "outputs": [],
   "source": [
    "# Basic input\n",
    "name = input(\"What's your name? \")\n",
    "print(f\"Nice to meet you, {name}!\")\n",
    "\n",
    "# Converting input to numbers\n",
    "age_str = input(\"How old are you? \")\n",
    "age = int(age_str)  # Convert string to integer\n",
    "print(f\"Next year you'll be {age + 1}\")\n",
    "\n",
    "# Input validation\n",
    "while True:\n",
    "    try:\n",
    "        number = int(input(\"Enter a number: \"))\n",
    "        break  # Exit loop if conversion successful\n",
    "    except ValueError:\n",
    "        print(\"That's not a valid number. Try again.\")\n",
    "\n",
    "# Multiple inputs\n",
    "first_name = input(\"First name: \")\n",
    "last_name = input(\"Last name: \")\n",
    "full_name = f\"{first_name} {last_name}\""
   ]
  },
  {
   "cell_type": "markdown",
   "id": "f58359d1",
   "metadata": {},
   "source": [
    "<b>Exercise</b>: Create a program that asks for the user's favorite number and tells them what that number doubled equals."
   ]
  },
  {
   "cell_type": "code",
   "execution_count": null,
   "id": "7929601c",
   "metadata": {},
   "outputs": [],
   "source": []
  },
  {
   "cell_type": "markdown",
   "id": "93514545",
   "metadata": {},
   "source": [
    "## Conditional Statements\n",
    "\n",
    "Conditional statements allow your program to make decisions and execute different code based on conditions."
   ]
  },
  {
   "cell_type": "code",
   "execution_count": null,
   "id": "c694c47e",
   "metadata": {},
   "outputs": [],
   "source": [
    "# Simple if statement\n",
    "age = 18\n",
    "if age >= 18:\n",
    "    print(\"You can vote!\")\n",
    "\n",
    "# If-else statement\n",
    "temperature = 75\n",
    "if temperature > 80:\n",
    "    print(\"It's hot outside!\")\n",
    "else:\n",
    "    print(\"It's not too hot today.\")\n",
    "\n",
    "# Multiple conditions with elif\n",
    "score = 85\n",
    "if score >= 90:\n",
    "    grade = \"A\"\n",
    "elif score >= 80:\n",
    "    grade = \"B\"\n",
    "elif score >= 70:\n",
    "    grade = \"C\"\n",
    "elif score >= 60:\n",
    "    grade = \"D\"\n",
    "else:\n",
    "    grade = \"F\"\n",
    "print(f\"Your grade is: {grade}\")\n"
   ]
  },
  {
   "cell_type": "code",
   "execution_count": null,
   "id": "cdefb601",
   "metadata": {},
   "outputs": [],
   "source": [
    "# Comparison operators\n",
    "x = 10\n",
    "y = 5\n",
    "\n",
    "print(x == y)    # Equal to: False\n",
    "print(x != y)    # Not equal to: True\n",
    "print(x > y)     # Greater than: True\n",
    "print(x < y)     # Less than: False\n",
    "print(x >= y)    # Greater than or equal: True\n",
    "print(x <= y)    # Less than or equal: False\n"
   ]
  },
  {
   "cell_type": "code",
   "execution_count": null,
   "id": "f2708abb",
   "metadata": {},
   "outputs": [],
   "source": [
    "# Logical operators: and, or, not\n",
    "age = 25\n",
    "has_license = True\n",
    "has_car = False\n",
    "\n",
    "# AND - both conditions must be true\n",
    "if age >= 18 and has_license:\n",
    "    print(\"You can drive!\")\n",
    "\n",
    "# OR - at least one condition must be true\n",
    "if has_license or age >= 21:\n",
    "    print(\"You meet at least one requirement\")\n",
    "\n",
    "# NOT - reverses the boolean value\n",
    "if not has_car:\n",
    "    print(\"You don't have a car\")\n",
    "\n",
    "# Complex conditions\n",
    "if (age >= 18 and has_license) or age >= 21:\n",
    "    print(\"Complex condition met!\")\n"
   ]
  },
  {
   "cell_type": "code",
   "execution_count": null,
   "id": "226f08dc",
   "metadata": {},
   "outputs": [],
   "source": [
    "# Using 'in' to check if value exists\n",
    "fruits = [\"apple\", \"banana\", \"orange\"]\n",
    "user_fruit = \"apple\"\n",
    "\n",
    "if user_fruit in fruits:\n",
    "    print(f\"{user_fruit} is available!\")\n",
    "\n",
    "# Checking string content\n",
    "name = \"Alice\"\n",
    "if \"A\" in name:\n",
    "    print(\"Name contains the letter A\")\n",
    "\n",
    "# Multiple conditions in one line\n",
    "number = 15\n",
    "if 10 <= number <= 20:\n",
    "    print(\"Number is between 10 and 20\")\n"
   ]
  },
  {
   "cell_type": "markdown",
   "id": "4b11a8ad",
   "metadata": {},
   "source": [
    "<b>Exercise:</b> Write a program that asks for a user's age and tells them if they can vote, drive, or rent a car (ages 18, 16, and 25 respectively)."
   ]
  },
  {
   "cell_type": "code",
   "execution_count": null,
   "id": "def10c08",
   "metadata": {},
   "outputs": [],
   "source": []
  },
  {
   "cell_type": "markdown",
   "id": "47eef512",
   "metadata": {},
   "source": [
    "## Operations and Operators (15 minutes)\n",
    "\n",
    "Python provides various operators for performing calculations and manipulating data."
   ]
  },
  {
   "cell_type": "code",
   "execution_count": null,
   "id": "68b2534f",
   "metadata": {},
   "outputs": [],
   "source": [
    "# Basic arithmetic\n",
    "a = 10\n",
    "b = 3\n",
    "\n",
    "print(a + b)    # Addition: 13\n",
    "print(a - b)    # Subtraction: 7\n",
    "print(a * b)    # Multiplication: 30\n",
    "print(a / b)    # Division: 3.3333...\n",
    "print(a // b)   # Floor division: 3\n",
    "print(a % b)    # Modulus (remainder): 1\n",
    "print(a ** b)   # Exponentiation: 1000\n"
   ]
  },
  {
   "cell_type": "code",
   "execution_count": null,
   "id": "04a260a1",
   "metadata": {},
   "outputs": [],
   "source": [
    "# Compound assignment operators\n",
    "x = 10\n",
    "x += 5    # Same as: x = x + 5 (now x = 15)\n",
    "x -= 3    # Same as: x = x - 3 (now x = 12)\n",
    "x *= 2    # Same as: x = x * 2 (now x = 24)\n",
    "x /= 4    # Same as: x = x / 4 (now x = 6.0)\n",
    "x //= 2   # Same as: x = x // 2 (now x = 3.0)\n",
    "x %= 2    # Same as: x = x % 2 (now x = 1.0)\n",
    "x **= 3   # Same as: x = x ** 3 (now x = 1.0)\n"
   ]
  },
  {
   "cell_type": "code",
   "execution_count": null,
   "id": "5ac760bf",
   "metadata": {},
   "outputs": [],
   "source": [
    "# String concatenation\n",
    "first_name = \"John\"\n",
    "last_name = \"Doe\"\n",
    "full_name = first_name + \" \" + last_name\n",
    "print(full_name)  # \"John Doe\"\n",
    "\n",
    "# String repetition\n",
    "laugh = \"Ha\" * 3\n",
    "print(laugh)  # \"HaHaHa\"\n",
    "\n",
    "# String formatting\n",
    "age = 25\n",
    "message = f\"I am {age} years old\"\n",
    "print(message)\n",
    "\n",
    "# String methods\n",
    "text = \"Hello World\"\n",
    "print(text.upper())     # \"HELLO WORLD\"\n",
    "print(text.lower())     # \"hello world\"\n",
    "print(text.replace(\"World\", \"Python\"))  # \"Hello Python\"\n",
    "print(len(text))        # 11\n"
   ]
  },
  {
   "cell_type": "code",
   "execution_count": null,
   "id": "f6316ec1",
   "metadata": {},
   "outputs": [],
   "source": [
    "# Math functions\n",
    "numbers = [1, 5, 3, 9, 2]\n",
    "print(max(numbers))    # 9\n",
    "print(min(numbers))    # 1\n",
    "print(sum(numbers))    # 20\n",
    "print(len(numbers))    # 5\n",
    "\n",
    "# Type conversion\n",
    "text_number = \"42\"\n",
    "number = int(text_number)    # Convert string to integer\n",
    "decimal = float(\"3.14\")      # Convert string to float\n",
    "text = str(123)              # Convert number to string\n",
    "\n",
    "# Rounding\n",
    "pi = 3.14159\n",
    "print(round(pi, 2))    # 3.14\n",
    "print(abs(-5))         # 5 (absolute value)\n"
   ]
  },
  {
   "cell_type": "code",
   "execution_count": null,
   "id": "e57b0cee",
   "metadata": {},
   "outputs": [],
   "source": [
    "# Python follows standard mathematical order (PEMDAS)\n",
    "result = 2 + 3 * 4        # 14 (not 20)\n",
    "result = (2 + 3) * 4      # 20 (parentheses first)\n",
    "result = 2 ** 3 * 4       # 32 (exponentiation first)\n",
    "result = 10 / 2 * 3       # 15.0 (left to right for same precedence)\n"
   ]
  },
  {
   "cell_type": "markdown",
   "id": "8eab6fba",
   "metadata": {},
   "source": [
    "<b>Exercise</b>: Create a program that calculates the area of a circle. Ask the user for the radius, then use the formula: area = π × radius². Use 3.14159 for π and round the result to 2 decimal places."
   ]
  },
  {
   "cell_type": "code",
   "execution_count": null,
   "id": "6ea16f30",
   "metadata": {},
   "outputs": [],
   "source": []
  },
  {
   "cell_type": "markdown",
   "id": "7e8605f0",
   "metadata": {},
   "source": [
    "### Practical Example: Grade Calculator"
   ]
  },
  {
   "cell_type": "code",
   "execution_count": null,
   "id": "a5ca3fa7",
   "metadata": {},
   "outputs": [],
   "source": [
    "# Using operations and conditionals together\n",
    "def calculate_grade():\n",
    "    # Get test scores\n",
    "    test1 = float(input(\"Enter test 1 score: \"))\n",
    "    test2 = float(input(\"Enter test 2 score: \"))\n",
    "    test3 = float(input(\"Enter test 3 score: \"))\n",
    "\n",
    "    # Calculate average\n",
    "    average = (test1 + test2 + test3) / 3\n",
    "\n",
    "    # Round to 1 decimal place\n",
    "    average = round(average, 1)\n",
    "\n",
    "    # Determine letter grade\n",
    "    if average >= 90:\n",
    "        letter = \"A\"\n",
    "    elif average >= 80:\n",
    "        letter = \"B\"\n",
    "    elif average >= 70:\n",
    "        letter = \"C\"\n",
    "    elif average >= 60:\n",
    "        letter = \"D\"\n",
    "    else:\n",
    "        letter = \"F\"\n",
    "\n",
    "    # Display results\n",
    "    print(f\"Your average is {average}%\")\n",
    "    print(f\"Your letter grade is: {letter}\")\n",
    "\n",
    "    # Bonus: Check if passing\n",
    "    if average >= 60:\n",
    "        print(\"Congratulations! You passed!\")\n",
    "    else:\n",
    "        print(\"You need to retake the course.\")\n",
    "\n",
    "# Run the calculator\n",
    "calculate_grade()\n"
   ]
  },
  {
   "cell_type": "markdown",
   "id": "f904e1f4",
   "metadata": {},
   "source": [
    "These sections provide the foundation for making decisions in code and performing calculations, which are essential for the calculator project and most programming tasks."
   ]
  },
  {
   "cell_type": "markdown",
   "id": "0ff500a8",
   "metadata": {},
   "source": [
    "## Main Project: Calculator Without Mathematical Operators\n",
    "\n",
    "Now we'll build a calculator that performs addition, subtraction, multiplication, and division using only loops and function calls.### Project Breakdown:\n",
    "\n",
    "**Step 1: Addition Function**\n",
    "\n",
    "- Use a loop to add 1 to the first number, b times\n",
    "- Handle negative numbers by subtracting instead\n",
    "\n",
    "**Step 2: Subtraction Function**\n",
    "\n",
    "- Reuse the addition function with a negative second number\n",
    "\n",
    "**Step 3: Multiplication Function**\n",
    "\n",
    "- Use repeated addition in a loop\n",
    "- Handle negative numbers by tracking sign\n",
    "\n",
    "**Step 4: Division Function**\n",
    "\n",
    "- Use repeated subtraction to count how many times divisor fits into dividend\n",
    "- Handle negative numbers and division by zero\n",
    "\n",
    "**Step 5: User Interface**\n",
    "\n",
    "- Menu system with input validation\n",
    "- Loop to allow multiple calculations\n",
    "- Clear display of results"
   ]
  },
  {
   "cell_type": "markdown",
   "id": "9e98d498",
   "metadata": {},
   "source": []
  }
 ],
 "metadata": {
  "kernelspec": {
   "display_name": "data-academy-python-day",
   "language": "python",
   "name": "python3"
  },
  "language_info": {
   "codemirror_mode": {
    "name": "ipython",
    "version": 3
   },
   "file_extension": ".py",
   "mimetype": "text/x-python",
   "name": "python",
   "nbconvert_exporter": "python",
   "pygments_lexer": "ipython3",
   "version": "3.12.11"
  }
 },
 "nbformat": 4,
 "nbformat_minor": 5
}
